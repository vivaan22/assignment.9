{
 "cells": [
  {
   "cell_type": "code",
   "execution_count": null,
   "id": "ba83fda4",
   "metadata": {},
   "outputs": [],
   "source": [
    "import cv2\n",
    "\n",
    "cap = cv2.VideoCapture('video.mp4')\n",
    "\n",
    "while(cap.isOpened()):\n",
    "    ret, frame = cap.read()\n",
    "    cv2.imshow('frame',frame)\n",
    "    if cv2.waitKey(1) & 0xFF == ord('q'):\n",
    "        break\n",
    "cap.release()\n",
    "cv2.destroyAllWindows()\n"
   ]
  },
  {
   "cell_type": "code",
   "execution_count": null,
   "id": "c86b5246",
   "metadata": {},
   "outputs": [],
   "source": [
    "def countDer(n):\n",
    "     \n",
    "    # Base cases\n",
    "    if (n == 1): return 0\n",
    "    if (n == 2): return 1\n",
    "     \n",
    "    # countDer(n) = (n-1)[countDer(n-1) + der(n-2)]\n",
    "    return (n - 1) * (countDer(n - 1) +\n",
    "                      countDer(n - 2))\n",
    " \n",
    "# Driver Code\n",
    "n = 4\n",
    "print(\"Count of Derangements is \", countDer(n))\n",
    " "
   ]
  },
  {
   "cell_type": "code",
   "execution_count": null,
   "id": "269978d7",
   "metadata": {},
   "outputs": [],
   "source": [
    "def unique_list(l):\n",
    "    x = []\n",
    "    for a in l:\n",
    "    if a not in x:\n",
    "        x.append(a)    \n",
    "    return x\n",
    "\n",
    "print(unique_list([1,2,3,3,3,3,4,5])) "
   ]
  },
  {
   "cell_type": "code",
   "execution_count": null,
   "id": "0e8df2b5",
   "metadata": {},
   "outputs": [],
   "source": [
    "N = int(raw_input())\n",
    "C = map(int, raw_input().split(' '))\n",
    "c = Counter(C)\n",
    "s = 0\n",
    "for i in c:\n",
    "s += c[i]/2\n",
    "print s"
   ]
  },
  {
   "cell_type": "code",
   "execution_count": null,
   "id": "fe451bca",
   "metadata": {},
   "outputs": [],
   "source": [
    "def sum_digits_string(str1):\n",
    "    sum_digit = 0\n",
    "    for x in str1:\n",
    "        if x.isdigit() == True:\n",
    "            z = int(x)\n",
    "            sum_digit = sum_digit + z\n",
    "\n",
    "    return sum_digit\n",
    "     \n",
    "str1 = input(\"Enter the string :\")\n",
    "print(\"Sum of the Numbers are: \")\n",
    "print(sum_digits_string(str1))"
   ]
  }
 ],
 "metadata": {
  "kernelspec": {
   "display_name": "Python 3",
   "language": "python",
   "name": "python3"
  },
  "language_info": {
   "codemirror_mode": {
    "name": "ipython",
    "version": 3
   },
   "file_extension": ".py",
   "mimetype": "text/x-python",
   "name": "python",
   "nbconvert_exporter": "python",
   "pygments_lexer": "ipython3",
   "version": "3.8.8"
  }
 },
 "nbformat": 4,
 "nbformat_minor": 5
}
